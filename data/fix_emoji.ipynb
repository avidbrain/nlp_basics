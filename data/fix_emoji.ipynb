{
 "cells": [
  {
   "cell_type": "code",
   "execution_count": 1,
   "id": "df2272fa",
   "metadata": {},
   "outputs": [],
   "source": [
    "import io\n",
    "import pandas as pd"
   ]
  },
  {
   "cell_type": "code",
   "execution_count": 2,
   "id": "e809a676",
   "metadata": {},
   "outputs": [],
   "source": [
    "def stream_filter(stream):\n",
    "    xc3 = int.from_bytes(b'\\xc3', byteorder='big')\n",
    "    xc2 = int.from_bytes(b'\\xc2', byteorder='big')\n",
    "    m = int.from_bytes(b'\\x40', byteorder=\"big\")\n",
    "    after_xc3 = False\n",
    "    for s in stream:\n",
    "        if s == xc3:\n",
    "            after_xc3 = True\n",
    "            continue            \n",
    "        if after_xc3:\n",
    "            after_xc3 = False\n",
    "            yield s|m\n",
    "            continue\n",
    "        if s == xc2:\n",
    "            continue\n",
    "        yield s"
   ]
  },
  {
   "cell_type": "code",
   "execution_count": 3,
   "id": "56d57bed",
   "metadata": {},
   "outputs": [],
   "source": [
    "def read_fix_emoji(path):\n",
    "    with open(path, 'rb') as f:\n",
    "        bytes_in = f.read()\n",
    "    inmemory = io.BytesIO(bytes(stream_filter(bytes_in)))\n",
    "    return pd.read_csv(inmemory, encoding_errors='ignore')"
   ]
  },
  {
   "cell_type": "code",
   "execution_count": 4,
   "id": "1ab85f35",
   "metadata": {},
   "outputs": [],
   "source": [
    "train_df = read_fix_emoji('train_tweets.csv')\n",
    "train_df.to_csv('train_tweets_fix.csv', index=False)\n",
    "test_df = read_fix_emoji('test_tweets.csv')\n",
    "test_df.to_csv('test_tweets_fix.csv', index=False)"
   ]
  },
  {
   "cell_type": "code",
   "execution_count": null,
   "id": "bb574a60",
   "metadata": {},
   "outputs": [],
   "source": []
  }
 ],
 "metadata": {
  "kernelspec": {
   "display_name": "Python 3 (ipykernel)",
   "language": "python",
   "name": "python3"
  },
  "language_info": {
   "codemirror_mode": {
    "name": "ipython",
    "version": 3
   },
   "file_extension": ".py",
   "mimetype": "text/x-python",
   "name": "python",
   "nbconvert_exporter": "python",
   "pygments_lexer": "ipython3",
   "version": "3.9.7"
  }
 },
 "nbformat": 4,
 "nbformat_minor": 5
}
